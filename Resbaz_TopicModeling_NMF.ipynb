{
  "nbformat": 4,
  "nbformat_minor": 0,
  "metadata": {
    "colab": {
      "name": "Resbaz_TopicModeling_NMF.ipynb",
      "provenance": [],
      "collapsed_sections": []
    },
    "kernelspec": {
      "name": "python3",
      "display_name": "Python 3"
    },
    "language_info": {
      "name": "python"
    }
  },
  "cells": [
    {
      "cell_type": "markdown",
      "metadata": {
        "id": "VgRPR0W98Tb7"
      },
      "source": [
        "# NMF Topic Modeling with Scikit-Learn\n"
      ]
    },
    {
      "cell_type": "markdown",
      "metadata": {
        "id": "pmeLl4vpvTdZ"
      },
      "source": [
        "## Module Installation"
      ]
    },
    {
      "cell_type": "code",
      "metadata": {
        "id": "NW-uFkW3pO5a",
        "colab": {
          "base_uri": "https://localhost:8080/"
        },
        "outputId": "78fce007-9c67-4114-a3ec-1c374c5452ea"
      },
      "source": [
        "# Install Spacy modules, Spacy English language parsers, OCTIS and Tweet-preprocessor\n",
        "\n",
        "!pip install spacy\n",
        "!python -m spacy download en_core_web_sm\n",
        "\n",
        "!pip install octis\n",
        "!pip install delayed\n",
        "\n",
        "!pip install tweet-preprocessor"
      ],
      "execution_count": 1,
      "outputs": [
        {
          "output_type": "stream",
          "name": "stdout",
          "text": [
            "Requirement already satisfied: spacy in /usr/local/lib/python3.7/dist-packages (2.2.4)\n",
            "Requirement already satisfied: setuptools in /usr/local/lib/python3.7/dist-packages (from spacy) (57.4.0)\n",
            "Requirement already satisfied: numpy>=1.15.0 in /usr/local/lib/python3.7/dist-packages (from spacy) (1.19.5)\n",
            "Requirement already satisfied: blis<0.5.0,>=0.4.0 in /usr/local/lib/python3.7/dist-packages (from spacy) (0.4.1)\n",
            "Requirement already satisfied: plac<1.2.0,>=0.9.6 in /usr/local/lib/python3.7/dist-packages (from spacy) (1.1.3)\n",
            "Requirement already satisfied: thinc==7.4.0 in /usr/local/lib/python3.7/dist-packages (from spacy) (7.4.0)\n",
            "Requirement already satisfied: catalogue<1.1.0,>=0.0.7 in /usr/local/lib/python3.7/dist-packages (from spacy) (1.0.0)\n",
            "Requirement already satisfied: srsly<1.1.0,>=1.0.2 in /usr/local/lib/python3.7/dist-packages (from spacy) (1.0.5)\n",
            "Requirement already satisfied: murmurhash<1.1.0,>=0.28.0 in /usr/local/lib/python3.7/dist-packages (from spacy) (1.0.6)\n",
            "Requirement already satisfied: tqdm<5.0.0,>=4.38.0 in /usr/local/lib/python3.7/dist-packages (from spacy) (4.62.3)\n",
            "Requirement already satisfied: requests<3.0.0,>=2.13.0 in /usr/local/lib/python3.7/dist-packages (from spacy) (2.23.0)\n",
            "Requirement already satisfied: wasabi<1.1.0,>=0.4.0 in /usr/local/lib/python3.7/dist-packages (from spacy) (0.8.2)\n",
            "Requirement already satisfied: preshed<3.1.0,>=3.0.2 in /usr/local/lib/python3.7/dist-packages (from spacy) (3.0.6)\n",
            "Requirement already satisfied: cymem<2.1.0,>=2.0.2 in /usr/local/lib/python3.7/dist-packages (from spacy) (2.0.6)\n",
            "Requirement already satisfied: importlib-metadata>=0.20 in /usr/local/lib/python3.7/dist-packages (from catalogue<1.1.0,>=0.0.7->spacy) (4.8.2)\n",
            "Requirement already satisfied: typing-extensions>=3.6.4 in /usr/local/lib/python3.7/dist-packages (from importlib-metadata>=0.20->catalogue<1.1.0,>=0.0.7->spacy) (3.10.0.2)\n",
            "Requirement already satisfied: zipp>=0.5 in /usr/local/lib/python3.7/dist-packages (from importlib-metadata>=0.20->catalogue<1.1.0,>=0.0.7->spacy) (3.6.0)\n",
            "Requirement already satisfied: certifi>=2017.4.17 in /usr/local/lib/python3.7/dist-packages (from requests<3.0.0,>=2.13.0->spacy) (2021.10.8)\n",
            "Requirement already satisfied: chardet<4,>=3.0.2 in /usr/local/lib/python3.7/dist-packages (from requests<3.0.0,>=2.13.0->spacy) (3.0.4)\n",
            "Requirement already satisfied: idna<3,>=2.5 in /usr/local/lib/python3.7/dist-packages (from requests<3.0.0,>=2.13.0->spacy) (2.10)\n",
            "Requirement already satisfied: urllib3!=1.25.0,!=1.25.1,<1.26,>=1.21.1 in /usr/local/lib/python3.7/dist-packages (from requests<3.0.0,>=2.13.0->spacy) (1.24.3)\n",
            "Collecting en_core_web_sm==2.2.5\n",
            "  Downloading https://github.com/explosion/spacy-models/releases/download/en_core_web_sm-2.2.5/en_core_web_sm-2.2.5.tar.gz (12.0 MB)\n",
            "\u001b[K     |████████████████████████████████| 12.0 MB 14.4 MB/s \n",
            "\u001b[?25hRequirement already satisfied: spacy>=2.2.2 in /usr/local/lib/python3.7/dist-packages (from en_core_web_sm==2.2.5) (2.2.4)\n",
            "Requirement already satisfied: thinc==7.4.0 in /usr/local/lib/python3.7/dist-packages (from spacy>=2.2.2->en_core_web_sm==2.2.5) (7.4.0)\n",
            "Requirement already satisfied: wasabi<1.1.0,>=0.4.0 in /usr/local/lib/python3.7/dist-packages (from spacy>=2.2.2->en_core_web_sm==2.2.5) (0.8.2)\n",
            "Requirement already satisfied: numpy>=1.15.0 in /usr/local/lib/python3.7/dist-packages (from spacy>=2.2.2->en_core_web_sm==2.2.5) (1.19.5)\n",
            "Requirement already satisfied: plac<1.2.0,>=0.9.6 in /usr/local/lib/python3.7/dist-packages (from spacy>=2.2.2->en_core_web_sm==2.2.5) (1.1.3)\n",
            "Requirement already satisfied: catalogue<1.1.0,>=0.0.7 in /usr/local/lib/python3.7/dist-packages (from spacy>=2.2.2->en_core_web_sm==2.2.5) (1.0.0)\n",
            "Requirement already satisfied: requests<3.0.0,>=2.13.0 in /usr/local/lib/python3.7/dist-packages (from spacy>=2.2.2->en_core_web_sm==2.2.5) (2.23.0)\n",
            "Requirement already satisfied: murmurhash<1.1.0,>=0.28.0 in /usr/local/lib/python3.7/dist-packages (from spacy>=2.2.2->en_core_web_sm==2.2.5) (1.0.6)\n",
            "Requirement already satisfied: preshed<3.1.0,>=3.0.2 in /usr/local/lib/python3.7/dist-packages (from spacy>=2.2.2->en_core_web_sm==2.2.5) (3.0.6)\n",
            "Requirement already satisfied: blis<0.5.0,>=0.4.0 in /usr/local/lib/python3.7/dist-packages (from spacy>=2.2.2->en_core_web_sm==2.2.5) (0.4.1)\n",
            "Requirement already satisfied: cymem<2.1.0,>=2.0.2 in /usr/local/lib/python3.7/dist-packages (from spacy>=2.2.2->en_core_web_sm==2.2.5) (2.0.6)\n",
            "Requirement already satisfied: setuptools in /usr/local/lib/python3.7/dist-packages (from spacy>=2.2.2->en_core_web_sm==2.2.5) (57.4.0)\n",
            "Requirement already satisfied: srsly<1.1.0,>=1.0.2 in /usr/local/lib/python3.7/dist-packages (from spacy>=2.2.2->en_core_web_sm==2.2.5) (1.0.5)\n",
            "Requirement already satisfied: tqdm<5.0.0,>=4.38.0 in /usr/local/lib/python3.7/dist-packages (from spacy>=2.2.2->en_core_web_sm==2.2.5) (4.62.3)\n",
            "Requirement already satisfied: importlib-metadata>=0.20 in /usr/local/lib/python3.7/dist-packages (from catalogue<1.1.0,>=0.0.7->spacy>=2.2.2->en_core_web_sm==2.2.5) (4.8.2)\n",
            "Requirement already satisfied: zipp>=0.5 in /usr/local/lib/python3.7/dist-packages (from importlib-metadata>=0.20->catalogue<1.1.0,>=0.0.7->spacy>=2.2.2->en_core_web_sm==2.2.5) (3.6.0)\n",
            "Requirement already satisfied: typing-extensions>=3.6.4 in /usr/local/lib/python3.7/dist-packages (from importlib-metadata>=0.20->catalogue<1.1.0,>=0.0.7->spacy>=2.2.2->en_core_web_sm==2.2.5) (3.10.0.2)\n",
            "Requirement already satisfied: idna<3,>=2.5 in /usr/local/lib/python3.7/dist-packages (from requests<3.0.0,>=2.13.0->spacy>=2.2.2->en_core_web_sm==2.2.5) (2.10)\n",
            "Requirement already satisfied: chardet<4,>=3.0.2 in /usr/local/lib/python3.7/dist-packages (from requests<3.0.0,>=2.13.0->spacy>=2.2.2->en_core_web_sm==2.2.5) (3.0.4)\n",
            "Requirement already satisfied: certifi>=2017.4.17 in /usr/local/lib/python3.7/dist-packages (from requests<3.0.0,>=2.13.0->spacy>=2.2.2->en_core_web_sm==2.2.5) (2021.10.8)\n",
            "Requirement already satisfied: urllib3!=1.25.0,!=1.25.1,<1.26,>=1.21.1 in /usr/local/lib/python3.7/dist-packages (from requests<3.0.0,>=2.13.0->spacy>=2.2.2->en_core_web_sm==2.2.5) (1.24.3)\n",
            "\u001b[38;5;2m✔ Download and installation successful\u001b[0m\n",
            "You can now load the model via spacy.load('en_core_web_sm')\n",
            "Collecting octis\n",
            "  Downloading octis-1.10.0-py2.py3-none-any.whl (5.7 MB)\n",
            "\u001b[K     |████████████████████████████████| 5.7 MB 27.2 MB/s \n",
            "\u001b[?25hCollecting scikit-learn==0.24.2\n",
            "  Downloading scikit_learn-0.24.2-cp37-cp37m-manylinux2010_x86_64.whl (22.3 MB)\n",
            "\u001b[K     |████████████████████████████████| 22.3 MB 86.5 MB/s \n",
            "\u001b[?25hRequirement already satisfied: flask in /usr/local/lib/python3.7/dist-packages (from octis) (1.1.4)\n",
            "Requirement already satisfied: spacy in /usr/local/lib/python3.7/dist-packages (from octis) (2.2.4)\n",
            "Requirement already satisfied: numpy in /usr/local/lib/python3.7/dist-packages (from octis) (1.19.5)\n",
            "Collecting libsvm\n",
            "  Downloading libsvm-3.23.0.4.tar.gz (170 kB)\n",
            "\u001b[K     |████████████████████████████████| 170 kB 63.9 MB/s \n",
            "\u001b[?25hRequirement already satisfied: requests in /usr/local/lib/python3.7/dist-packages (from octis) (2.23.0)\n",
            "Collecting sentence-transformers\n",
            "  Downloading sentence-transformers-2.1.0.tar.gz (78 kB)\n",
            "\u001b[K     |████████████████████████████████| 78 kB 8.5 MB/s \n",
            "\u001b[?25hRequirement already satisfied: torch in /usr/local/lib/python3.7/dist-packages (from octis) (1.10.0+cu111)\n",
            "Requirement already satisfied: nltk in /usr/local/lib/python3.7/dist-packages (from octis) (3.2.5)\n",
            "Requirement already satisfied: pandas in /usr/local/lib/python3.7/dist-packages (from octis) (1.1.5)\n",
            "Collecting scikit-optimize>=0.8.1\n",
            "  Downloading scikit_optimize-0.9.0-py2.py3-none-any.whl (100 kB)\n",
            "\u001b[K     |████████████████████████████████| 100 kB 12.0 MB/s \n",
            "\u001b[?25hCollecting tomotopy\n",
            "  Downloading tomotopy-0.12.2-cp37-cp37m-manylinux_2_12_x86_64.manylinux2010_x86_64.whl (16.3 MB)\n",
            "\u001b[K     |████████████████████████████████| 16.3 MB 815 kB/s \n",
            "\u001b[?25hCollecting gensim>=4.0.0\n",
            "  Downloading gensim-4.1.2-cp37-cp37m-manylinux_2_12_x86_64.manylinux2010_x86_64.whl (24.1 MB)\n",
            "\u001b[K     |████████████████████████████████| 24.1 MB 1.9 MB/s \n",
            "\u001b[?25hRequirement already satisfied: matplotlib in /usr/local/lib/python3.7/dist-packages (from octis) (3.2.2)\n",
            "Requirement already satisfied: joblib>=0.11 in /usr/local/lib/python3.7/dist-packages (from scikit-learn==0.24.2->octis) (1.1.0)\n",
            "Requirement already satisfied: threadpoolctl>=2.0.0 in /usr/local/lib/python3.7/dist-packages (from scikit-learn==0.24.2->octis) (3.0.0)\n",
            "Requirement already satisfied: scipy>=0.19.1 in /usr/local/lib/python3.7/dist-packages (from scikit-learn==0.24.2->octis) (1.4.1)\n",
            "Requirement already satisfied: smart-open>=1.8.1 in /usr/local/lib/python3.7/dist-packages (from gensim>=4.0.0->octis) (5.2.1)\n",
            "Collecting pyaml>=16.9\n",
            "  Downloading pyaml-21.10.1-py2.py3-none-any.whl (24 kB)\n",
            "Requirement already satisfied: PyYAML in /usr/local/lib/python3.7/dist-packages (from pyaml>=16.9->scikit-optimize>=0.8.1->octis) (3.13)\n",
            "Requirement already satisfied: Jinja2<3.0,>=2.10.1 in /usr/local/lib/python3.7/dist-packages (from flask->octis) (2.11.3)\n",
            "Requirement already satisfied: Werkzeug<2.0,>=0.15 in /usr/local/lib/python3.7/dist-packages (from flask->octis) (1.0.1)\n",
            "Requirement already satisfied: click<8.0,>=5.1 in /usr/local/lib/python3.7/dist-packages (from flask->octis) (7.1.2)\n",
            "Requirement already satisfied: itsdangerous<2.0,>=0.24 in /usr/local/lib/python3.7/dist-packages (from flask->octis) (1.1.0)\n",
            "Requirement already satisfied: MarkupSafe>=0.23 in /usr/local/lib/python3.7/dist-packages (from Jinja2<3.0,>=2.10.1->flask->octis) (2.0.1)\n",
            "Requirement already satisfied: pyparsing!=2.0.4,!=2.1.2,!=2.1.6,>=2.0.1 in /usr/local/lib/python3.7/dist-packages (from matplotlib->octis) (3.0.6)\n",
            "Requirement already satisfied: cycler>=0.10 in /usr/local/lib/python3.7/dist-packages (from matplotlib->octis) (0.11.0)\n",
            "Requirement already satisfied: python-dateutil>=2.1 in /usr/local/lib/python3.7/dist-packages (from matplotlib->octis) (2.8.2)\n",
            "Requirement already satisfied: kiwisolver>=1.0.1 in /usr/local/lib/python3.7/dist-packages (from matplotlib->octis) (1.3.2)\n",
            "Requirement already satisfied: six>=1.5 in /usr/local/lib/python3.7/dist-packages (from python-dateutil>=2.1->matplotlib->octis) (1.15.0)\n",
            "Requirement already satisfied: pytz>=2017.2 in /usr/local/lib/python3.7/dist-packages (from pandas->octis) (2018.9)\n",
            "Requirement already satisfied: certifi>=2017.4.17 in /usr/local/lib/python3.7/dist-packages (from requests->octis) (2021.10.8)\n",
            "Requirement already satisfied: idna<3,>=2.5 in /usr/local/lib/python3.7/dist-packages (from requests->octis) (2.10)\n",
            "Requirement already satisfied: chardet<4,>=3.0.2 in /usr/local/lib/python3.7/dist-packages (from requests->octis) (3.0.4)\n",
            "Requirement already satisfied: urllib3!=1.25.0,!=1.25.1,<1.26,>=1.21.1 in /usr/local/lib/python3.7/dist-packages (from requests->octis) (1.24.3)\n",
            "Collecting transformers<5.0.0,>=4.6.0\n",
            "  Downloading transformers-4.12.5-py3-none-any.whl (3.1 MB)\n",
            "\u001b[K     |████████████████████████████████| 3.1 MB 36.4 MB/s \n",
            "\u001b[?25hCollecting tokenizers>=0.10.3\n",
            "  Downloading tokenizers-0.10.3-cp37-cp37m-manylinux_2_5_x86_64.manylinux1_x86_64.manylinux_2_12_x86_64.manylinux2010_x86_64.whl (3.3 MB)\n",
            "\u001b[K     |████████████████████████████████| 3.3 MB 40.5 MB/s \n",
            "\u001b[?25hRequirement already satisfied: tqdm in /usr/local/lib/python3.7/dist-packages (from sentence-transformers->octis) (4.62.3)\n",
            "Requirement already satisfied: torchvision in /usr/local/lib/python3.7/dist-packages (from sentence-transformers->octis) (0.11.1+cu111)\n",
            "Collecting sentencepiece\n",
            "  Downloading sentencepiece-0.1.96-cp37-cp37m-manylinux_2_17_x86_64.manylinux2014_x86_64.whl (1.2 MB)\n",
            "\u001b[K     |████████████████████████████████| 1.2 MB 34.6 MB/s \n",
            "\u001b[?25hCollecting huggingface-hub\n",
            "  Downloading huggingface_hub-0.1.2-py3-none-any.whl (59 kB)\n",
            "\u001b[K     |████████████████████████████████| 59 kB 7.7 MB/s \n",
            "\u001b[?25hRequirement already satisfied: typing-extensions in /usr/local/lib/python3.7/dist-packages (from torch->octis) (3.10.0.2)\n",
            "Collecting PyYAML\n",
            "  Downloading PyYAML-6.0-cp37-cp37m-manylinux_2_5_x86_64.manylinux1_x86_64.manylinux_2_12_x86_64.manylinux2010_x86_64.whl (596 kB)\n",
            "\u001b[K     |████████████████████████████████| 596 kB 44.0 MB/s \n",
            "\u001b[?25hRequirement already satisfied: importlib-metadata in /usr/local/lib/python3.7/dist-packages (from transformers<5.0.0,>=4.6.0->sentence-transformers->octis) (4.8.2)\n",
            "Collecting sacremoses\n",
            "  Downloading sacremoses-0.0.46-py3-none-any.whl (895 kB)\n",
            "\u001b[K     |████████████████████████████████| 895 kB 46.0 MB/s \n",
            "\u001b[?25hRequirement already satisfied: filelock in /usr/local/lib/python3.7/dist-packages (from transformers<5.0.0,>=4.6.0->sentence-transformers->octis) (3.4.0)\n",
            "Requirement already satisfied: regex!=2019.12.17 in /usr/local/lib/python3.7/dist-packages (from transformers<5.0.0,>=4.6.0->sentence-transformers->octis) (2019.12.20)\n",
            "Requirement already satisfied: packaging>=20.0 in /usr/local/lib/python3.7/dist-packages (from transformers<5.0.0,>=4.6.0->sentence-transformers->octis) (21.3)\n",
            "Requirement already satisfied: zipp>=0.5 in /usr/local/lib/python3.7/dist-packages (from importlib-metadata->transformers<5.0.0,>=4.6.0->sentence-transformers->octis) (3.6.0)\n",
            "Requirement already satisfied: thinc==7.4.0 in /usr/local/lib/python3.7/dist-packages (from spacy->octis) (7.4.0)\n",
            "Requirement already satisfied: wasabi<1.1.0,>=0.4.0 in /usr/local/lib/python3.7/dist-packages (from spacy->octis) (0.8.2)\n",
            "Requirement already satisfied: catalogue<1.1.0,>=0.0.7 in /usr/local/lib/python3.7/dist-packages (from spacy->octis) (1.0.0)\n",
            "Requirement already satisfied: blis<0.5.0,>=0.4.0 in /usr/local/lib/python3.7/dist-packages (from spacy->octis) (0.4.1)\n",
            "Requirement already satisfied: srsly<1.1.0,>=1.0.2 in /usr/local/lib/python3.7/dist-packages (from spacy->octis) (1.0.5)\n",
            "Requirement already satisfied: cymem<2.1.0,>=2.0.2 in /usr/local/lib/python3.7/dist-packages (from spacy->octis) (2.0.6)\n",
            "Requirement already satisfied: setuptools in /usr/local/lib/python3.7/dist-packages (from spacy->octis) (57.4.0)\n",
            "Requirement already satisfied: plac<1.2.0,>=0.9.6 in /usr/local/lib/python3.7/dist-packages (from spacy->octis) (1.1.3)\n",
            "Requirement already satisfied: murmurhash<1.1.0,>=0.28.0 in /usr/local/lib/python3.7/dist-packages (from spacy->octis) (1.0.6)\n",
            "Requirement already satisfied: preshed<3.1.0,>=3.0.2 in /usr/local/lib/python3.7/dist-packages (from spacy->octis) (3.0.6)\n",
            "Requirement already satisfied: pillow!=8.3.0,>=5.3.0 in /usr/local/lib/python3.7/dist-packages (from torchvision->sentence-transformers->octis) (7.1.2)\n",
            "Building wheels for collected packages: libsvm, sentence-transformers\n",
            "  Building wheel for libsvm (setup.py) ... \u001b[?25l\u001b[?25hdone\n",
            "  Created wheel for libsvm: filename=libsvm-3.23.0.4-cp37-cp37m-linux_x86_64.whl size=233365 sha256=fbe9d8bb22d615623191a56be2989725f6a127f39b8da11901a3c6a1e6671a35\n",
            "  Stored in directory: /root/.cache/pip/wheels/cd/e8/1e/bf95cf256e4d3ffc94289ab508c49d48e34c98220af63e3513\n",
            "  Building wheel for sentence-transformers (setup.py) ... \u001b[?25l\u001b[?25hdone\n",
            "  Created wheel for sentence-transformers: filename=sentence_transformers-2.1.0-py3-none-any.whl size=121000 sha256=869ee208953f7b65b5cdf58a649245e2fd3cad1e226305973b0b7bdc365ead6e\n",
            "  Stored in directory: /root/.cache/pip/wheels/90/f0/bb/ed1add84da70092ea526466eadc2bfb197c4bcb8d4fa5f7bad\n",
            "Successfully built libsvm sentence-transformers\n",
            "Installing collected packages: PyYAML, tokenizers, sacremoses, huggingface-hub, transformers, sentencepiece, scikit-learn, pyaml, tomotopy, sentence-transformers, scikit-optimize, libsvm, gensim, octis\n",
            "  Attempting uninstall: PyYAML\n",
            "    Found existing installation: PyYAML 3.13\n",
            "    Uninstalling PyYAML-3.13:\n",
            "      Successfully uninstalled PyYAML-3.13\n",
            "  Attempting uninstall: scikit-learn\n",
            "    Found existing installation: scikit-learn 1.0.1\n",
            "    Uninstalling scikit-learn-1.0.1:\n",
            "      Successfully uninstalled scikit-learn-1.0.1\n",
            "  Attempting uninstall: gensim\n",
            "    Found existing installation: gensim 3.6.0\n",
            "    Uninstalling gensim-3.6.0:\n",
            "      Successfully uninstalled gensim-3.6.0\n",
            "Successfully installed PyYAML-6.0 gensim-4.1.2 huggingface-hub-0.1.2 libsvm-3.23.0.4 octis-1.10.0 pyaml-21.10.1 sacremoses-0.0.46 scikit-learn-0.24.2 scikit-optimize-0.9.0 sentence-transformers-2.1.0 sentencepiece-0.1.96 tokenizers-0.10.3 tomotopy-0.12.2 transformers-4.12.5\n",
            "Collecting delayed\n",
            "  Downloading delayed-0.11.0b1-py2.py3-none-any.whl (19 kB)\n",
            "Collecting redis\n",
            "  Downloading redis-4.0.2-py3-none-any.whl (119 kB)\n",
            "\u001b[K     |████████████████████████████████| 119 kB 58.8 MB/s \n",
            "\u001b[?25hCollecting hiredis\n",
            "  Downloading hiredis-2.0.0-cp37-cp37m-manylinux2010_x86_64.whl (85 kB)\n",
            "\u001b[K     |████████████████████████████████| 85 kB 4.2 MB/s \n",
            "\u001b[?25hCollecting deprecated\n",
            "  Downloading Deprecated-1.2.13-py2.py3-none-any.whl (9.6 kB)\n",
            "Requirement already satisfied: wrapt<2,>=1.10 in /usr/local/lib/python3.7/dist-packages (from deprecated->redis->delayed) (1.13.3)\n",
            "Installing collected packages: deprecated, redis, hiredis, delayed\n",
            "Successfully installed delayed-0.11.0b1 deprecated-1.2.13 hiredis-2.0.0 redis-4.0.2\n",
            "Collecting tweet-preprocessor\n",
            "  Downloading tweet_preprocessor-0.6.0-py3-none-any.whl (27 kB)\n",
            "Installing collected packages: tweet-preprocessor\n",
            "Successfully installed tweet-preprocessor-0.6.0\n"
          ]
        }
      ]
    },
    {
      "cell_type": "markdown",
      "metadata": {
        "id": "sCASegib860J"
      },
      "source": [
        "## Module Imports"
      ]
    },
    {
      "cell_type": "code",
      "metadata": {
        "id": "6199MN-J89DF"
      },
      "source": [
        "import numpy as np\n",
        "from sklearn.decomposition import NMF\n",
        "from sklearn.feature_extraction.text import TfidfVectorizer\n",
        "\n",
        "import matplotlib.pyplot as plt\n",
        "\n",
        "#OCTIS imports\n",
        "from octis.evaluation_metrics.diversity_metrics import TopicDiversity\n",
        "from octis.evaluation_metrics.coherence_metrics import Coherence\n",
        "\n",
        "#Text Processing imports and Custom Spacy Tokenizer\n",
        "import spacy\n",
        "import en_core_web_sm\n",
        "\n",
        "from spacy.lang.en.stop_words import STOP_WORDS\n",
        "\n",
        "# Import Tweet processing library\n",
        "import preprocessor as tweet_processor"
      ],
      "execution_count": 2,
      "outputs": []
    },
    {
      "cell_type": "markdown",
      "metadata": {
        "id": "0Ns3NzBqLTSq"
      },
      "source": [
        "## Text Preprocessing with Spacy and Tweet-preprocessor"
      ]
    },
    {
      "cell_type": "code",
      "metadata": {
        "id": "t4yO72pNuhCB",
        "colab": {
          "base_uri": "https://localhost:8080/"
        },
        "outputId": "1f1d9b9f-1ed7-406a-90c7-1abf7dcef5fb"
      },
      "source": [
        "# Get the list of stop words from spacy\n",
        "print(len(STOP_WORDS))\n",
        "print(STOP_WORDS)\n"
      ],
      "execution_count": 3,
      "outputs": [
        {
          "output_type": "stream",
          "name": "stdout",
          "text": [
            "326\n",
            "{'full', 'always', 'why', \"'s\", 'already', 'wherein', 'out', 'more', 'than', 'perhaps', 'else', 'once', 'one', 'himself', 'although', 'front', 'beside', 'some', 'somehow', 'almost', 'if', 'too', 'still', 'whereby', 'will', 'together', 'because', 'should', 'formerly', 'really', 'within', 'themselves', 'therein', 'for', 'has', 'seeming', 'across', 'an', 'during', 'put', 'whether', 'further', \"'d\", 'ca', 'nor', 'its', 'herein', 'be', 'at', 'therefore', 'all', 'every', 'so', 'hundred', 'not', 'those', 'how', 'besides', 'seems', 'due', 'yet', 'or', 'before', 'can', 'say', 'three', 'their', 'anyone', 'please', 'namely', 'over', 'latterly', 'make', 'using', 'everyone', 'by', 'it', 'again', 'towards', 'none', 'into', 'in', 'latter', 'n’t', 'often', 'thereafter', 'most', 'keep', 'ourselves', 'move', 'his', 'becoming', 'own', 'otherwise', 'four', 'among', 'very', 'well', '’m', 'where', \"n't\", 'must', 'he', 'side', 'would', 'enough', 'seemed', 'hereupon', 'third', 'does', 'have', 'behind', 'upon', \"'m\", 'yours', 'serious', 'which', 'name', 'whatever', 'twenty', 'am', 'wherever', 'sometime', 'meanwhile', 'along', 'next', 'as', 'under', 'any', 'forty', '’s', 'ten', 'both', 'call', 'hence', 'done', 'moreover', 'toward', 'becomes', 'being', 'against', 'whoever', 'yourselves', 'unless', 'last', 'twelve', 'were', 'but', 'go', 'show', 'several', 'amongst', 'other', 'do', 'whereas', 'anyhow', 'something', 'much', 'my', 'afterwards', 'without', 'top', 'also', 'elsewhere', 'we', 'about', 'whom', 'sometimes', 'except', 'what', 'take', 'whereafter', 'former', '’ll', '’re', 'this', 'nobody', 'a', 'your', 'others', '’ve', 'empty', 'rather', 'whither', 'above', 'even', 'herself', 're', 'thereby', 'her', 'did', 'there', 'many', 'indeed', 'down', 'i', 'throughout', 'below', 'onto', 'between', 'such', 'they', 'beforehand', 'alone', 'thereupon', 'whereupon', 'became', 'mostly', 'everywhere', 'ever', 'that', 'myself', 'you', 'someone', 'either', 'nothing', 'least', 'anything', 'on', 'become', 'might', 'seem', 'us', 'see', 'when', 'few', 'sixty', 'was', '’d', 'same', 'been', \"'ll\", 'just', 'whenever', 'could', 'and', 'thru', 'until', 'doing', 'had', 'these', 'since', 'me', 'to', 'though', 'the', 'used', 'from', '‘ve', 'our', 'back', 'him', 'amount', '‘m', 'five', 'per', 'six', 'hers', 'beyond', 'less', 'hereby', 'whole', \"'ve\", 'bottom', 'via', 'here', 'while', 'anywhere', 'of', 'another', 'part', 'nowhere', 'first', '‘s', 'whence', 'is', 'are', \"'re\", 'various', 'after', 'whose', 'itself', 'get', 'somewhere', 'fifteen', 'now', '‘ll', 'nevertheless', 'around', 'thence', 'only', 'cannot', 'quite', 'no', 'eight', 'nine', 'off', 'each', 'never', 'noone', 'she', 'neither', 'them', 'hereafter', 'mine', 'yourself', 'ours', 'made', 'thus', '‘re', 'up', 'through', 'with', 'regarding', 'two', 'give', 'however', 'then', 'may', 'everything', 'fifty', '‘d', 'eleven', 'anyway', 'n‘t', 'who'}\n"
          ]
        }
      ]
    },
    {
      "cell_type": "code",
      "metadata": {
        "colab": {
          "base_uri": "https://localhost:8080/"
        },
        "id": "8cS8eV-N_DxC",
        "outputId": "5b9e99c6-f506-4d17-c056-d834e437b0f8"
      },
      "source": [
        "spacy_nlp = spacy.load('en')\n",
        "\n",
        "# Add custom stopwords to Spacy\n",
        "spacy_nlp.Defaults.stop_words |= {\"makemeastopword\"}\n",
        "\n",
        "# Create a method called spacy_custom_tokenizer that performs custom tokenization using Spacy\n",
        "# Use tweet_processor to remove @replies, hashtags and links from Tweets\n",
        "# Remove stop words, punctuation and numbers using Spacy\n",
        "\n",
        "def spacy_custom_tokenizer(document):\n",
        "\n",
        "    #Clean Tweet using tweet_processor\n",
        "    document = tweet_processor.clean(document)\n",
        "\n",
        "    # Creating a spacy document\n",
        "    spacy_doc = spacy_nlp(document)\n",
        "\n",
        "    # Remove stop words, punctuation and numbers\n",
        "    # Return he lemma of the word as lowercase and remove extra spaces\n",
        "    tokens = [word.lemma_.lower().strip() for word in spacy_doc if (not word.is_stop and not word.is_punct and not word.like_num)]\n",
        "\n",
        "    return tokens\n",
        "\n",
        "#Test the custom tokenizer\n",
        "spacy_custom_tokenizer(\"I was running so I ran to run to somewhere now in Australia. ... --- makemeastopword @aneesha\")"
      ],
      "execution_count": 15,
      "outputs": [
        {
          "output_type": "execute_result",
          "data": {
            "text/plain": [
              "['run', 'run', 'run', 'australia']"
            ]
          },
          "metadata": {},
          "execution_count": 15
        }
      ]
    },
    {
      "cell_type": "markdown",
      "metadata": {
        "id": "GYUcwSEdxA95"
      },
      "source": [
        "## Load Tweets for \"US Airways\" from the https://www.kaggle.com/crowdflower/twitter-airline-sentiment dataset\n",
        "\n"
      ]
    },
    {
      "cell_type": "code",
      "metadata": {
        "colab": {
          "resources": {
            "http://localhost:8080/nbextensions/google.colab/files.js": {
              "data": "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",
              "ok": true,
              "headers": [
                [
                  "content-type",
                  "application/javascript"
                ]
              ],
              "status": 200,
              "status_text": ""
            }
          },
          "base_uri": "https://localhost:8080/",
          "height": 72
        },
        "id": "fgFgStVN_hnX",
        "outputId": "1508586f-4e9f-4242-ca2a-59b6602a89de"
      },
      "source": [
        "# Upload dataset to Google Colab\n",
        "\n",
        "from google.colab import files\n",
        "\n",
        "uploaded = files.upload()"
      ],
      "execution_count": 6,
      "outputs": [
        {
          "output_type": "display_data",
          "data": {
            "text/html": [
              "\n",
              "     <input type=\"file\" id=\"files-c36ab947-0e65-4115-868b-931630502e93\" name=\"files[]\" multiple disabled\n",
              "        style=\"border:none\" />\n",
              "     <output id=\"result-c36ab947-0e65-4115-868b-931630502e93\">\n",
              "      Upload widget is only available when the cell has been executed in the\n",
              "      current browser session. Please rerun this cell to enable.\n",
              "      </output>\n",
              "      <script src=\"/nbextensions/google.colab/files.js\"></script> "
            ],
            "text/plain": [
              "<IPython.core.display.HTML object>"
            ]
          },
          "metadata": {}
        },
        {
          "output_type": "stream",
          "name": "stdout",
          "text": [
            "Saving Tweets.csv to Tweets.csv\n"
          ]
        }
      ]
    },
    {
      "cell_type": "code",
      "metadata": {
        "id": "QkLvAWZdcC1D",
        "colab": {
          "base_uri": "https://localhost:8080/",
          "height": 530
        },
        "outputId": "675947e8-32a1-4bff-bd87-2855faf5fd62"
      },
      "source": [
        "# Use pandas to load and only include tweets from \"US Airways\"\n",
        "\n",
        "import pandas as pd\n",
        "\n",
        "dataset_df = pd.read_csv('Tweets.csv')\n",
        "\n",
        "dataset_df = dataset_df[dataset_df['airline']=='US Airways']\n",
        "\n",
        "documents = dataset_df['text'].tolist()\n",
        "\n",
        "dataset_df.head()\n"
      ],
      "execution_count": 7,
      "outputs": [
        {
          "output_type": "execute_result",
          "data": {
            "text/html": [
              "<div>\n",
              "<style scoped>\n",
              "    .dataframe tbody tr th:only-of-type {\n",
              "        vertical-align: middle;\n",
              "    }\n",
              "\n",
              "    .dataframe tbody tr th {\n",
              "        vertical-align: top;\n",
              "    }\n",
              "\n",
              "    .dataframe thead th {\n",
              "        text-align: right;\n",
              "    }\n",
              "</style>\n",
              "<table border=\"1\" class=\"dataframe\">\n",
              "  <thead>\n",
              "    <tr style=\"text-align: right;\">\n",
              "      <th></th>\n",
              "      <th>tweet_id</th>\n",
              "      <th>airline_sentiment</th>\n",
              "      <th>airline_sentiment_confidence</th>\n",
              "      <th>negativereason</th>\n",
              "      <th>negativereason_confidence</th>\n",
              "      <th>airline</th>\n",
              "      <th>airline_sentiment_gold</th>\n",
              "      <th>name</th>\n",
              "      <th>negativereason_gold</th>\n",
              "      <th>retweet_count</th>\n",
              "      <th>text</th>\n",
              "      <th>tweet_coord</th>\n",
              "      <th>tweet_created</th>\n",
              "      <th>tweet_location</th>\n",
              "      <th>user_timezone</th>\n",
              "    </tr>\n",
              "  </thead>\n",
              "  <tbody>\n",
              "    <tr>\n",
              "      <th>8966</th>\n",
              "      <td>570310600460525568</td>\n",
              "      <td>negative</td>\n",
              "      <td>0.6292</td>\n",
              "      <td>Flight Booking Problems</td>\n",
              "      <td>0.3146</td>\n",
              "      <td>US Airways</td>\n",
              "      <td>NaN</td>\n",
              "      <td>jhazelnut</td>\n",
              "      <td>NaN</td>\n",
              "      <td>0</td>\n",
              "      <td>@USAirways  is there a better time to call? My...</td>\n",
              "      <td>NaN</td>\n",
              "      <td>2015-02-24 11:53:37 -0800</td>\n",
              "      <td>NaN</td>\n",
              "      <td>NaN</td>\n",
              "    </tr>\n",
              "    <tr>\n",
              "      <th>8967</th>\n",
              "      <td>570310144459972608</td>\n",
              "      <td>negative</td>\n",
              "      <td>1.0000</td>\n",
              "      <td>Customer Service Issue</td>\n",
              "      <td>1.0000</td>\n",
              "      <td>US Airways</td>\n",
              "      <td>NaN</td>\n",
              "      <td>GAKotsch</td>\n",
              "      <td>NaN</td>\n",
              "      <td>0</td>\n",
              "      <td>@USAirways and when will one of these agents b...</td>\n",
              "      <td>NaN</td>\n",
              "      <td>2015-02-24 11:51:48 -0800</td>\n",
              "      <td>NaN</td>\n",
              "      <td>Atlantic Time (Canada)</td>\n",
              "    </tr>\n",
              "    <tr>\n",
              "      <th>8968</th>\n",
              "      <td>570309340952993796</td>\n",
              "      <td>neutral</td>\n",
              "      <td>1.0000</td>\n",
              "      <td>NaN</td>\n",
              "      <td>NaN</td>\n",
              "      <td>US Airways</td>\n",
              "      <td>NaN</td>\n",
              "      <td>DebbiMcGinnis</td>\n",
              "      <td>NaN</td>\n",
              "      <td>0</td>\n",
              "      <td>@USAirways is a DM possible if you aren't foll...</td>\n",
              "      <td>NaN</td>\n",
              "      <td>2015-02-24 11:48:37 -0800</td>\n",
              "      <td>Missourah</td>\n",
              "      <td>Hawaii</td>\n",
              "    </tr>\n",
              "    <tr>\n",
              "      <th>8969</th>\n",
              "      <td>570309000279023616</td>\n",
              "      <td>neutral</td>\n",
              "      <td>1.0000</td>\n",
              "      <td>NaN</td>\n",
              "      <td>NaN</td>\n",
              "      <td>US Airways</td>\n",
              "      <td>NaN</td>\n",
              "      <td>AshleyKAtherton</td>\n",
              "      <td>NaN</td>\n",
              "      <td>0</td>\n",
              "      <td>@USAirways Fortunately you have staff like Lyn...</td>\n",
              "      <td>NaN</td>\n",
              "      <td>2015-02-24 11:47:16 -0800</td>\n",
              "      <td>NaN</td>\n",
              "      <td>Central Time (US &amp; Canada)</td>\n",
              "    </tr>\n",
              "    <tr>\n",
              "      <th>8970</th>\n",
              "      <td>570308799950692353</td>\n",
              "      <td>negative</td>\n",
              "      <td>1.0000</td>\n",
              "      <td>Customer Service Issue</td>\n",
              "      <td>0.6452</td>\n",
              "      <td>US Airways</td>\n",
              "      <td>NaN</td>\n",
              "      <td>retardedlarry</td>\n",
              "      <td>NaN</td>\n",
              "      <td>0</td>\n",
              "      <td>@USAirways just hung up on me again.  Another ...</td>\n",
              "      <td>NaN</td>\n",
              "      <td>2015-02-24 11:46:28 -0800</td>\n",
              "      <td>NaN</td>\n",
              "      <td>NaN</td>\n",
              "    </tr>\n",
              "  </tbody>\n",
              "</table>\n",
              "</div>"
            ],
            "text/plain": [
              "                tweet_id  ...               user_timezone\n",
              "8966  570310600460525568  ...                         NaN\n",
              "8967  570310144459972608  ...      Atlantic Time (Canada)\n",
              "8968  570309340952993796  ...                      Hawaii\n",
              "8969  570309000279023616  ...  Central Time (US & Canada)\n",
              "8970  570308799950692353  ...                         NaN\n",
              "\n",
              "[5 rows x 15 columns]"
            ]
          },
          "metadata": {},
          "execution_count": 7
        }
      ]
    },
    {
      "cell_type": "markdown",
      "metadata": {
        "id": "ex0pQ3T98qH1"
      },
      "source": [
        "##Helper Methods\n",
        "\n",
        "---\n",
        "\n"
      ]
    },
    {
      "cell_type": "code",
      "metadata": {
        "id": "qSWjSIf8f6IR"
      },
      "source": [
        "\n",
        "# Create a function to display both top words and top documents in a topic\n",
        "def display_topics(H, W, feature_names, documents, no_top_words, no_top_documents):\n",
        "    #The method needs to take H, W, the full vocabulary, docuemnt dataset anf the number of words as a \n",
        "    # parameters and print out the top documents in addition to the top words.\n",
        "    for topic_idx, topic in enumerate(H):\n",
        "        print(\"Topic %d:\" % (topic_idx))\n",
        "        print(\" \".join([ (feature_names[i] + \" (\" + str(topic[i].round(2)) + \")\")\n",
        "          for i in topic.argsort()[:-no_top_words - 1:-1]]))\n",
        "        top_doc_indices = np.argsort( W[:,topic_idx] )[::-1][0:no_top_documents]\n",
        "        for doc_index in top_doc_indices:\n",
        "            print(str(doc_index) + \". \" + documents[doc_index])\n",
        "\n",
        "# Format topic output for use by OCTIS\n",
        "def format_topics_for_OCTIS(nmf_H, nmf_W, vocab, no_top_words):\n",
        "  topics = []\n",
        "  for topic_idx, topic in enumerate(nmf_H):\n",
        "    word_list = [vocab[i] for i in topic.argsort()[:-no_top_words - 1:-1]]\n",
        "    topics.append(word_list)\n",
        "\n",
        "  octis_topic_dict = {}\n",
        "  octis_topic_dict[\"topic-word-matrix\"] = nmf_H\n",
        "  octis_topic_dict[\"topics\"] = topics\n",
        "  octis_topic_dict[\"topic-document-matrix\"] = np.array(nmf_W).transpose()\n",
        "  return octis_topic_dict\n",
        "\n",
        "# Recreate the dataset for OCTIS using the spacy_custom_tokenizer\n",
        "def get_dataset_for_octis(documents):\n",
        "  dataset_for_octis = []\n",
        "  for document in documents:\n",
        "    dataset_for_octis.append(spacy_custom_tokenizer(document))\n",
        "  return dataset_for_octis\n"
      ],
      "execution_count": 8,
      "outputs": []
    },
    {
      "cell_type": "markdown",
      "metadata": {
        "id": "BJfWGlPA4fA9"
      },
      "source": [
        "## Parameters to Set"
      ]
    },
    {
      "cell_type": "code",
      "metadata": {
        "id": "npHdEEGM4lAw"
      },
      "source": [
        "no_topics_list = list(range(4, 40)) #Todo: Set range of topics to be evaluated\n",
        "no_top_words = 10 #Todo: Set number of top words - will be used by Diversity and display_topics() method\n",
        "no_top_documents = 10 #Todo: Set number of top documents - will be used by the display_topics() method\n",
        "\n",
        "spacy_nlp.Defaults.stop_words |= {'flight', '..', '...', '....', 'help', 'thank', 'thanks','great', 'need', 'response', 'today'}\n",
        "\n",
        "max_iter = 500"
      ],
      "execution_count": 16,
      "outputs": []
    },
    {
      "cell_type": "markdown",
      "metadata": {
        "id": "0fr68Sv3xl5t"
      },
      "source": [
        "##Create a TfidfVectorizer that uses the custom Spacy Tokenizer"
      ]
    },
    {
      "cell_type": "code",
      "metadata": {
        "id": "vzq-ivZtu4uf"
      },
      "source": [
        "# TF-IDF stands for Term Frequency-Inverse Document Frequency. TF-IDF is a technique that is used to normalize the raw word counts in comparison to the document frequency. \n",
        "# TF-IDF is used to represent how important a word is in a document based on how many times the word appears in the current document and how many other documents also contain the word. \n",
        "# A higher TF-IDF score indicates higher importance for the word in the document.\n",
        "\n",
        "# max_df - ignore terms that have a document frequency higher than the given threshold (corpus-specific stop words). This parameter represents a proportion of documents.\n",
        "# min_df - ignore terms that have a document frequency lower than the given threshold. In range of [0.0, 1.0], the parameter represents a proportion of documents.\n",
        "# max_features - only consider the top max_features ordered by term frequency across the corpus.\n",
        "\n",
        "tfidf_vectorizer = TfidfVectorizer(tokenizer = spacy_custom_tokenizer, max_features=2000, max_df=0.95, min_df=10)\n",
        "term_document_matrix = tfidf_vectorizer.fit_transform(documents)\n",
        "vocab = tfidf_vectorizer.get_feature_names()\n"
      ],
      "execution_count": 18,
      "outputs": []
    },
    {
      "cell_type": "markdown",
      "metadata": {
        "id": "jZsRBxzEiS75"
      },
      "source": [
        "## Vary the Number of Topics and Calculate Coherence and Diversity"
      ]
    },
    {
      "cell_type": "code",
      "metadata": {
        "id": "90NXdhNviP1q",
        "colab": {
          "base_uri": "https://localhost:8080/"
        },
        "outputId": "63d69890-e893-48ec-d558-4c3b6287e3da"
      },
      "source": [
        "reconstruction_error_list = []\n",
        "number_of_iterations_list = []\n",
        "npmi_coherence_score_list = []\n",
        "diversity_score_list = []\n",
        "\n",
        "# Coherence measures the semantic similarity between words in a topic and the metric can be reported across all topics that are generated by a Topic Modeling algorithm. \n",
        "# Normalized Pointwise Mutual Information (NPMI) score will be used as a Coherence measure. \n",
        "# NPMI measures how much more likely the top words in a generated topic can co-occur than if they were independent within the provided corpus.\n",
        "npmi = Coherence(texts=get_dataset_for_octis(documents), topk=no_top_words, measure='c_npmi')\n",
        "\n",
        "# Diversity is a measure of the uniqueness of words in a topic and is calculated between all generated topics.\n",
        "topic_diversity = TopicDiversity(topk=no_top_words)\n",
        "\n",
        "for no_topics in no_topics_list:\n",
        "\n",
        "  curent_no_topics = no_topics\n",
        "  nmf_model = NMF(n_components=curent_no_topics, init='nndsvd', max_iter=max_iter).fit(term_document_matrix)\n",
        "  nmf_W = nmf_model.transform(term_document_matrix)\n",
        "  nmf_H = nmf_model.components_\n",
        "\n",
        "  reconstruction_error_list.append(nmf_model.reconstruction_err_)\n",
        "  number_of_iterations_list.append(nmf_model.n_iter_)\n",
        "\n",
        "  octis_topic_dict = format_topics_for_OCTIS(nmf_H, nmf_W, vocab, no_top_words)\n",
        "\n",
        "  npmi_coherence_score_list.append(npmi.score(octis_topic_dict))\n",
        "  diversity_score_list.append(topic_diversity.score(octis_topic_dict))\n",
        "\n",
        "\n",
        "print(\"reconstruction_error_list\", reconstruction_error_list)\n",
        "print(\"number_of_iterations_list\", number_of_iterations_list)\n",
        "print(\"npmi_coherence_score_list\", npmi_coherence_score_list)\n",
        "print(\"diversity_score_list\", diversity_score_list)\n"
      ],
      "execution_count": 19,
      "outputs": [
        {
          "output_type": "stream",
          "name": "stdout",
          "text": [
            "reconstruction_error_list [51.24051812582791, 50.942658182911195, 50.67193150805949, 50.39895677060591, 50.16382525447004, 49.922523540269125, 49.6922215836967, 49.47160282320441, 49.27596675110744, 49.019992862265745, 48.80350397454866, 48.62441912087162, 48.386453031914556, 48.196681145822666, 47.97087312778232, 47.78515915118506, 47.54980800724205, 47.3541420201889, 47.16599241020493, 46.989558399295554, 46.80230531402132, 46.629061749728095, 46.45714217444255, 46.25207097688603, 46.07133309310334, 45.9058928988189, 45.72559336286115, 45.59881894374744, 45.39506045186217, 45.2386446285017, 45.07122040203292, 44.93084820070871, 44.75910589605674, 44.57425934244373, 44.39437972688001, 44.283146642564866]\n",
            "number_of_iterations_list [60, 46, 76, 48, 45, 70, 104, 76, 209, 163, 66, 136, 338, 84, 240, 317, 122, 57, 170, 214, 144, 155, 156, 120, 317, 157, 150, 85, 138, 164, 84, 103, 143, 106, 185, 106]\n",
            "npmi_coherence_score_list [-0.0009744669222551444, 0.022443641394622904, 0.017191003401957033, 0.021219657501263006, 0.01610951097404517, 0.017579888823097675, -0.0055752281262693455, -0.003717900604786568, -0.009051423869504534, -0.03813218315140128, -0.032000196917463905, -0.034354179660529574, -0.03570418549062012, -0.053773799995966536, -0.031927289127995036, -0.038531153101990026, -0.06631329862411481, -0.06795262649096546, -0.07127703980123096, -0.07736077009358538, -0.08177682609620307, -0.09126352378310798, -0.09831055532203245, -0.09921841992109054, -0.10311742267087178, -0.11868653364248918, -0.11203026091257842, -0.11658809924699952, -0.11779959175476973, -0.12051101431592802, -0.13670629912066323, -0.12928535021792298, -0.1401929797506662, -0.1410205314133063, -0.14485709207947592, -0.1381273828697061]\n",
            "diversity_score_list [0.9, 0.9, 0.8833333333333333, 0.8428571428571429, 0.8, 0.8, 0.83, 0.7818181818181819, 0.7583333333333333, 0.7384615384615385, 0.7142857142857143, 0.7133333333333334, 0.6875, 0.6823529411764706, 0.6722222222222223, 0.6789473684210526, 0.69, 0.680952380952381, 0.6909090909090909, 0.6478260869565218, 0.6583333333333333, 0.64, 0.65, 0.6333333333333333, 0.625, 0.6275862068965518, 0.61, 0.6129032258064516, 0.6125, 0.603030303030303, 0.6029411764705882, 0.6057142857142858, 0.6055555555555555, 0.581081081081081, 0.5947368421052631, 0.5871794871794872]\n"
          ]
        }
      ]
    },
    {
      "cell_type": "markdown",
      "metadata": {
        "id": "LlnuABzuq2W2"
      },
      "source": [
        "## Plot the Coherence and Diversity Metric\n",
        "\n"
      ]
    },
    {
      "cell_type": "code",
      "metadata": {
        "colab": {
          "base_uri": "https://localhost:8080/",
          "height": 899
        },
        "id": "Rxxkt8ghq9cK",
        "outputId": "c0717a5f-80f1-491b-df6e-daff983c02fb"
      },
      "source": [
        "\n",
        "plt.figure(figsize=(12,7))\n",
        "plt.plot(no_topics_list, npmi_coherence_score_list)  \n",
        "\n",
        "plt.xlabel(\"Number of Topics\")\n",
        "plt.ylabel(\"NPMI Coherence Score\")\n",
        "plt.title(\"Topic Coherence\")\n",
        "\n",
        "plt.show()\n",
        "\n",
        "plt.figure(figsize=(12,7))\n",
        "plt.plot(no_topics_list, diversity_score_list)  \n",
        "\n",
        "plt.xlabel(\"Number of Topics\")\n",
        "plt.ylabel(\"Diversity Score\")\n",
        "plt.title(\"Topic Diversity\")\n",
        "\n",
        "plt.show()"
      ],
      "execution_count": 20,
      "outputs": [
        {
          "output_type": "display_data",
          "data": {
            "image/png": "[encoded data removed]",
            "text/plain": [
              "<Figure size 864x504 with 1 Axes>"
            ]
          },
          "metadata": {
            "needs_background": "light"
          }
        },
        {
          "output_type": "display_data",
          "data": {
            "image/png": "[encoded data removed]",
            "text/plain": [
              "<Figure size 864x504 with 1 Axes>"
            ]
          },
          "metadata": {
            "needs_background": "light"
          }
        }
      ]
    },
    {
      "cell_type": "markdown",
      "metadata": {
        "id": "lQB7L3Z7mZUX"
      },
      "source": [
        "## Run NMF for the Selected Number of Topics and Visualize"
      ]
    },
    {
      "cell_type": "code",
      "metadata": {
        "id": "eMveATKxmXLT",
        "colab": {
          "base_uri": "https://localhost:8080/"
        },
        "outputId": "b8346ee9-4f09-4884-e8ba-fe4d6e5a7eec"
      },
      "source": [
        "  \n",
        "selected_number_of_topics = 10\n",
        "nmf_model = NMF(n_components=selected_number_of_topics, init='nndsvd', max_iter=max_iter).fit(term_document_matrix)\n",
        "nmf_W = nmf_model.transform(term_document_matrix)\n",
        "nmf_H = nmf_model.components_\n",
        "\n",
        "display_topics(nmf_H, nmf_W, vocab, documents, no_top_words, no_top_documents)"
      ],
      "execution_count": 21,
      "outputs": [
        {
          "output_type": "stream",
          "name": "stdout",
          "text": [
            "Topic 0:\n",
            "hold (3.24) hour (2.87) minute (1.06) try (0.33) reservation (0.31) + (0.29) min (0.27) count (0.24) change (0.22) unacceptable (0.17)\n",
            "869. @USAirways been on hold for over and hour now.\n",
            "1408. @USAirways @AmericanAir how do I get thru on hold over 3 hours ?\n",
            "997. @usairways I have been on hold for over 3 hours.  Please help! http://t.co/tyXAZtMQ1U\n",
            "476. @USAirways anyone there to help? Still on hold...\n",
            "1226. @USAirways GF was on hold for 4 hours and call was dropped!!! HELP!!!!! Need a flight!!!\n",
            "774. @USAirways - been on hold for more than 2.5 hours - this after not getting through after 2 hours on hold this morning with no answer - help!\n",
            "1096. @USAirways on hold 2 hours 54 minutes. What's going on?\n",
            "1411. @USAirways how do I get thru on hold 3 hours 5 minutes . Is this normal ? My call is lost\n",
            "254. @USAirways   Not good. On hold for over an hour. http://t.co/wSgYckCIIO\n",
            "1352. @USAirways @jtrexsocial 5 hours on hold ... Safe to say no one is working .\n",
            "Topic 1:\n",
            "service (1.63) customer (1.55) bad (0.44) experience (0.16) agent (0.11) terrible (0.11) provide (0.1) rude (0.1) line (0.1) nice (0.09)\n",
            "2866. @USAirways still crickets from customer service.\n",
            "1485. @USAirways nervous for flight tomrw out of key west not friendly customer service\n",
            "1178. @USAirways your customer service is atrocious.\n",
            "628. @USAirways is alright with me. Please give Scott F at BDL a bonus for excellent customer service\n",
            "2829. @USAirways customer service at its finest\n",
            "2314. @USAirways : its just a very bad customer service experience// can you help\n",
            "1098. @USAirways WORST customer service ever!!!\n",
            "1581. @USAirways enormous lines at customer service and two agents what kind of service is that .. http://t.co/ffanixJhwh\n",
            "2857. @USAirways How can I change without penalty and not have to call customer service\n",
            "1764. @USAirways worst customer service experience ever today. Get it together.\n",
            "Topic 2:\n",
            "need (2.57) travel (0.34) change (0.33) home (0.26) tell (0.22) asap (0.21) ticket (0.21) problem (0.17) book (0.16) people (0.16)\n",
            "1336. @USAirways obviously your corporate definition of PATIENCE needs to be reviewed.\n",
            "#Pleasehurryup #answerphone #reschedulemyflight\n",
            "1997. @USAirways @AmericanAir I'm in the #finalstretch to #chairman #execplat #mileagerun for 6k needed any suggestions? #letsgo!\n",
            "1503. @USAirways If I am traveling with an infant in my lap, is there anything I need to do to notify you?\n",
            "1106. @USAirways needs to hire more people http://t.co/3LPVFhKy2F\n",
            "2552. @USAirways I don't need to rebook I need to know the policy\n",
            "2393. @USAirways  thanks! Now I just need to locate where my luggage is!\n",
            "1226. @USAirways GF was on hold for 4 hours and call was dropped!!! HELP!!!!! Need a flight!!!\n",
            "851. @USAirways your IVR hung up on me because of high call volume? I need help. Call me\n",
            "1707. @USAirways @stephenrodrick Your team needs to build capacity\n",
            "1251. @USAirways and at this point I don't need sorry, I need a revers agt to pick up the call so maybe we can make the 11:30 flight today\n",
            "Topic 3:\n",
            "cancel (1.59) flightle (1.16) flight (0.79) flighted (0.26) dca (0.19) rebook (0.19) amp (0.18) home (0.11) reschedule (0.11) hotel (0.1)\n",
            "1061. @USAirways flights to Dfw Cancelled Flightled today?\n",
            "616. @USAirways will all flights out of DFW be Cancelled Flightled today?\n",
            "609. @USAirways Discovered our flight was Cancelled Flightled yesterday at 3:30PM - @americanairlnes finally notified us our flight was Cancelled Flighted at 0316 AM\n",
            "1015. @USAirways Just Cancelled Flight every flight I have why don't you.\n",
            "1124. @USAirways Cancelled Flightled my flight then put me on a flight the next day.I need help from somebody other than a robot. PLEASE!!! Much appreciated\n",
            "2240. i wish i was flying @USAirways ... @JetBlue Cancelled Flightled our flights tomorrow and never notified us #FlyUS #Ripoff\n",
            "2767. @USAirways  you Cancelled Flightled both my flights and refused to give a voucher despite no flights for 2days. @USAirways #neveragain\n",
            "1372. @USAirways 4 hours . How do I change my flight that was Cancelled Flightled ?\n",
            "2859. @USAirways They charged me for a flight they Cancelled Flightled, unbelievable and unheard of\n",
            "1640. @USAirways DCA to RSW at 8:30am Cancelled Flightled.  Rebook to Charlotte Cancelled Flightled.  Can we rebook selves online???\n",
            "Topic 4:\n",
            "delay (2.24) miss (0.54) connection (0.45) flight (0.25) connect (0.2) clt (0.15) go (0.13) charlotte (0.13) way (0.12) voucher (0.09)\n",
            "986. @USAirways 3818 delayed. blue skies all over. #whyisusairALWAYSDELAYED???\n",
            "2330. @USAirways delays to the max\n",
            "1954. @USAirways what is the damn delay????\n",
            "2116. @USAirways 4420 delayed further?\n",
            "750. @USAirways you're really fudgin up with all these delays 😡 #justwantmybed\n",
            "728. @USAirways you are absolutely terrible at managing these delays... Been delayed and undelayed and delayed 6 times now. 10 AM office hours.\n",
            "498. @USAirways now my rebooked connection is delayed.\n",
            "1400. @USAirways pullin some sh** delaying flights again... Smh @OBJ_3 http://t.co/Av2rfFHMcV\n",
            "374. @USAirways 4 great flights with no delays! Thank you!\n",
            "1099. @USAirways Three hour delay from Miami to London.  None of the other flights today are delayed. Put me on another flight!\n",
            "Topic 5:\n",
            "time (2.03) fly (0.9) airline (0.51) bad (0.46) good (0.26) guy (0.23) experience (0.2) $ (0.12) follow (0.11) lose (0.11)\n",
            "704. @USAirways Thank you. I'll do that next time!\n",
            "238. @usairways  US1799 CLT-&gt;SFO in first no desert, no snack basket. Incoming was on time ? What’s up?\n",
            "2064. @USAirways I already HAVE, four times\n",
            "2423. @USAirways surprisingly quick response time by you and them. Thanks!\n",
            "1557. @USAirways you are cutting into my pregame time.  Go @KentuckyMBB !!!!\n",
            "710. @USAirways Has To Be THE WORST Airline Of All Time😡😡😡\n",
            "276. @USAirways every single time i fly you guys i am delayed at least 30 minutes. Every time. On flight 5612 out of #CLT to nola.\n",
            "1331. @USAirways so how about some help with suggested time I could call to avoid such long wait time\n",
            "1854. @USAirways it's vegas baby who doesn't have a good time in vegas lol\n",
            "2388. @USAirways it is just bad practice and I am disappointed that your airline was not prepared...honestly the last time I fly with you guys\n",
            "Topic 6:\n",
            "plane (1.86) gate (1.03) sit (0.96) agent (0.32) go (0.31) leave (0.3) hour (0.25) let (0.24) clt (0.23) issue (0.22)\n",
            "2034. @USAirways 3935. Sitting on a freezing bus because nobody is in the plane. What is up?\n",
            "1790. @usairways and @american please get my plane together before I go to Jetblue\n",
            "2307. @USAirways #flight4592 LET US OFF THIS PLANE!!!  please go to a gate.  This is absurd.\n",
            "1088. @USAirways all these planes sitting here and no one going home. #usairwaysfail http://t.co/jN3V3k3qGv\n",
            "1480. @USAirways the plane crew has been as professional and courteous as the gate agents were flustered.\n",
            "2886. @USAirways I did and it's been a disaster. You had me sitting on the runway only to bring the plane back to the gate smh\n",
            "1525. @USAirways sitting on a plane in Philadelphia for over 20 minutes waiting just to get off the plane. Great service!\n",
            "1626. @USAirways how long are you going make us sit in this plane while they repair it? Could I at least get a beer???\n",
            "2015. @USAirways Why were we loaded onto the plane (4 hours Late Flight, mind you), made to sit for 40 minutes\n",
            "1845. @USAirways #2066. Was on plane from PBI to CLT and knew about the frozen water. Also saw a plane to NYC take off at the gate next door!\n",
            "Topic 7:\n",
            "wait (1.93) luggage (0.28) phone (0.25) min (0.25) gate (0.18) hrs (0.15) minute (0.14) long (0.14) line (0.14) people (0.12)\n",
            "2144. @USAirways still waiting on a response\n",
            "1767. @USAirways still waiting #brokenpromises #notnice #neveragain #tellyourstory\n",
            "1349. @USAirways still waiting on your reps to show. Now 40 mins into waiting in below freezing weather waiting for a cab.\n",
            "847. @USAirways we've been waiting at the gate for 2 hrs, why are we now waiting to stow the luggage?\n",
            "2711. @USAirways I've been waiting for the callback for EIGHT HOURS. HOW MUCH LONGER?!\n",
            "662. @USAirways three hour wait and counting waiting for reservations on the phone. Are you serious!?\n",
            "1143. @USAirways I waited customer service 32 minutes on the phone w/o response. Had to hung up in the end since my battery died due to waiting!\n",
            "841. @USAirways where's our luggage? Been waiting more than an hour! Flight 2118.\n",
            "2081. @USAirways flight 1777 has been waiting for 30 minutes at RSW waiting for weight balance clearance. Come on, let us leave!\n",
            "2643. @USAirways a flight update doesn't help when we are waiting 20+ min at our arrival waiting for a plane to leave our gate. Who can I write?😑\n",
            "Topic 8:\n",
            "bag (1.78) check (0.58) lose (0.45) amp (0.29) baggage (0.22) luggage (0.21) find (0.2) like (0.19) claim (0.17) night (0.15)\n",
            "988. @USAirways where are my bags?\n",
            "1574. @USAirways #SOS WHERE IS MY BAG ?\n",
            "885. @USAirways @AuroraBIZ check your bag, @PHLAirport bag handlers broke into my suitcase and stole my camera, bag was returned in a trash bag\n",
            "2425. @USAirways strikes again...lost bags. And two of them. #theworst\n",
            "2443. @USAirways I've done everything. Still no luck in finding my bag. I don't understand how my bag could have been misplaced. Very upsetting.\n",
            "401. @USAirways so it's a $25.00 bag fee for a golf bag on a domestic flight?\n",
            "1394. @USAirways it was your fault the flight was delayed to begin with. I shouldn't have to check my bag if there's a bunch of space\n",
            "2572. @USAirways @BohnJai they lost my bag @PHL baggage handlers broke open my bag and stole my camera\n",
            "1570. @USAirways @AmericanAir WHERE IS MY BAG ?#SOS ITIS BEING LOST FOR MORE THAN 24 HOURS ! #POORCUSTUMERSERVICE\n",
            "2429. @USAirways you can't even track my bag to see where it is. It's like it's disappeared.\n",
            "Topic 9:\n",
            "day (1.03) get (0.72) phone (0.62) try (0.59) call (0.35) work (0.34) book (0.34) late (0.33) mile (0.32) reservation (0.28)\n",
            "1016. @usairways Is your reservation phone number working? Called 10x in the last 3 days, and haven’t gotten through.\n",
            "2820. @USAirways Haha - that will indeed be a great day!\n",
            "2215. @USAirways #tbt every day.\n",
            "1033. @USAirways with this livery back in the day. http://t.co/EEqWVAMmiy\n",
            "2536. @USAirways for a response in 3-4 days? No thanks\n",
            "2811. @USAirways Thank you so much its been a very stressful day\n",
            "1852. @USAirways I've tried calling 3 times the past 3 days and I keep getting told to call back. SOMEONE PLEASE HELP ME\n",
            "1994. @USAirways I have been trying to book a flight using my miles for 3 straight days. 210 min on phone - still haven't talked to a human.\n",
            "2507. @USAirways I've been trying for DAYS!  And I don't get hung up on until after I get through all the prompts.  What am I to do??\n",
            "714. @USAirways .... I've been trying to get through to book a reservation and the system will not let me through. Day 3 #ridiculous\n"
          ]
        }
      ]
    }
  ]
}